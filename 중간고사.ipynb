{
 "cells": [
  {
   "cell_type": "markdown",
   "metadata": {},
   "source": [
    "## 시험문제 (1/5) : 가장 작은 수 찾기"
   ]
  },
  {
   "cell_type": "code",
   "execution_count": 1,
   "metadata": {},
   "outputs": [
    {
     "name": "stdout",
     "output_type": "stream",
     "text": [
      "numbers : [92, 62, 71, 16]\n"
     ]
    }
   ],
   "source": [
    "import random\n",
    "\n",
    "numbers = []\n",
    "\n",
    "for i in range(4):\n",
    "    number = random.randint(1, 100)\n",
    "    numbers.append(number)\n",
    "\n",
    "print('numbers :', numbers)"
   ]
  },
  {
   "cell_type": "code",
   "execution_count": 7,
   "metadata": {},
   "outputs": [
    {
     "name": "stdout",
     "output_type": "stream",
     "text": [
      "min_number : 16\n"
     ]
    }
   ],
   "source": [
    "min_number = None\n",
    "\n",
    "for number in numbers:\n",
    "    if min_number == None:\n",
    "        min_number = number\n",
    "    elif number < min_number:\n",
    "        min_number = number\n",
    "\n",
    "print('min_number :', min_number)"
   ]
  },
  {
   "cell_type": "markdown",
   "metadata": {},
   "source": [
    "# 시험문제 (2/5) : 로또 번호 뽑기"
   ]
  },
  {
   "cell_type": "code",
   "execution_count": 3,
   "metadata": {},
   "outputs": [
    {
     "name": "stdout",
     "output_type": "stream",
     "text": [
      "lotto_numbers : [43, 29, 30, 37, 4, 16]\n"
     ]
    }
   ],
   "source": [
    "import random\n",
    "\n",
    "lotto_numbers = []\n",
    "\n",
    "while True:\n",
    "    number = random.randint(1, 45)\n",
    "    if number not in lotto_numbers:\n",
    "        lotto_numbers.append(number)\n",
    "        if len(lotto_numbers) == 6:\n",
    "            break\n",
    "\n",
    "print('lotto_numbers :', lotto_numbers)"
   ]
  },
  {
   "cell_type": "markdown",
   "metadata": {},
   "source": [
    "# 시험문제 (3/5) : 스무고개"
   ]
  },
  {
   "cell_type": "code",
   "execution_count": 5,
   "metadata": {},
   "outputs": [
    {
     "name": "stdout",
     "output_type": "stream",
     "text": [
      "맞춰보세요. : 50\n",
      "up\n",
      "맞춰보세요. : 75\n",
      "down\n",
      "맞춰보세요. : 60\n",
      "down\n",
      "맞춰보세요. : 55\n",
      "4회에 맞추셨습니다.\n"
     ]
    }
   ],
   "source": [
    "import random\n",
    "\n",
    "number = random.randint(1, 100)\n",
    "\n",
    "for retry in range(1, 21):\n",
    "    answer = int(input('맞춰보세요. : '))\n",
    "    if number == answer:\n",
    "        print('{}회에 맞추셨습니다.'.format(retry))\n",
    "        break\n",
    "    elif number > answer:\n",
    "        print('up')\n",
    "    else:\n",
    "        print('down')\n",
    "\n",
    "if retry == 20:\n",
    "    print('다음 기회에 ~~~')"
   ]
  },
  {
   "cell_type": "markdown",
   "metadata": {},
   "source": [
    "# 시험문제 (4/5) : 공배수의 합 구하기"
   ]
  },
  {
   "cell_type": "code",
   "execution_count": 6,
   "metadata": {},
   "outputs": [
    {
     "name": "stdout",
     "output_type": "stream",
     "text": [
      "result : 47630940\n"
     ]
    }
   ],
   "source": [
    "result = 0\n",
    "\n",
    "for i in range(1, 100001):\n",
    "    if i % 3 == 0 and i % 5 == 0 and i % 7 == 0:\n",
    "        result += i\n",
    "\n",
    "print('result :', result)"
   ]
  },
  {
   "cell_type": "markdown",
   "metadata": {},
   "source": [
    "# 시험문제 (5/5) : 마름모 그리기"
   ]
  },
  {
   "cell_type": "code",
   "execution_count": 8,
   "metadata": {
    "collapsed": true
   },
   "outputs": [],
   "source": [
    "def get_max_value(value_list):\n",
    "    max_value = None\n",
    "    for value in value_list:\n",
    "        if max_value == None:\n",
    "            max_value = value\n",
    "        elif value > max_value:\n",
    "            max_value = value\n",
    "    return max_value\n",
    "\n",
    "\n",
    "def print_half(length_list, align='center'):\n",
    "    max_value = get_max_value(length_list)\n",
    "\n",
    "    lines = []\n",
    "\n",
    "    for star_length in length_list:        \n",
    "        if align == 'left':\n",
    "            space = (max_value - star_length) * ' '\n",
    "            star = '*' * star_length\n",
    "        elif align == 'right':\n",
    "            space = ''\n",
    "            star = '*' * star_length\n",
    "        else:  # center\n",
    "            space = (max_value - star_length) * ' '\n",
    "            star = '*' * (star_length * 2 - 1)\n",
    "\n",
    "        if len(star) >= 3:\n",
    "            star = '*' + (len(star[1:-1]) * ' ') + '*'\n",
    "            \n",
    "        lines.append(space + star)\n",
    "\n",
    "    return lines"
   ]
  },
  {
   "cell_type": "code",
   "execution_count": 9,
   "metadata": {},
   "outputs": [
    {
     "name": "stdout",
     "output_type": "stream",
     "text": [
      "   *\n",
      "  * *\n",
      " *   *\n",
      "*     *\n",
      " *   *\n",
      "  * *\n",
      "   *\n",
      "\n",
      "   *\n",
      "  **\n",
      " * *\n",
      "*  *\n",
      "* *\n",
      "**\n",
      "*\n",
      "\n",
      "*\n",
      "**\n",
      "* *\n",
      "*  *\n",
      " * *\n",
      "  **\n",
      "   *\n",
      "\n"
     ]
    }
   ],
   "source": [
    "top = print_half([1, 2, 3, 4], 'center')\n",
    "bottom = print_half([4, 3, 2, 1], 'center')\n",
    "for line in (top + bottom[1:]):\n",
    "    print(line)\n",
    "print()\n",
    "\n",
    "top = print_half([1, 2, 3, 4], 'left')\n",
    "bottom = print_half([4, 3, 2, 1], 'right')\n",
    "for line in (top + bottom[1:]):\n",
    "    print(line)\n",
    "print()\n",
    "\n",
    "top = print_half([1, 2, 3, 4], 'right')\n",
    "bottom = print_half([4, 3, 2, 1], 'left')\n",
    "for line in (top + bottom[1:]):\n",
    "    print(line)\n",
    "print()"
   ]
  },
  {
   "cell_type": "code",
   "execution_count": 10,
   "metadata": {},
   "outputs": [
    {
     "name": "stdout",
     "output_type": "stream",
     "text": [
      "         *\n",
      "        * *\n",
      "       *   *\n",
      "      *     *\n",
      "     *       *\n",
      "    *         *\n",
      "   *           *\n",
      "  *             *\n",
      " *               *\n",
      "*                 *\n",
      " *               *\n",
      "  *             *\n",
      "   *           *\n",
      "    *         *\n",
      "     *       *\n",
      "      *     *\n",
      "       *   *\n",
      "        * *\n",
      "         *\n",
      "\n",
      "         *\n",
      "        **\n",
      "       * *\n",
      "      *  *\n",
      "     *   *\n",
      "    *    *\n",
      "   *     *\n",
      "  *      *\n",
      " *       *\n",
      "*        *\n",
      "*       *\n",
      "*      *\n",
      "*     *\n",
      "*    *\n",
      "*   *\n",
      "*  *\n",
      "* *\n",
      "**\n",
      "*\n",
      "\n",
      "*\n",
      "**\n",
      "* *\n",
      "*  *\n",
      "*   *\n",
      "*    *\n",
      "*     *\n",
      "*      *\n",
      "*       *\n",
      "*        *\n",
      " *       *\n",
      "  *      *\n",
      "   *     *\n",
      "    *    *\n",
      "     *   *\n",
      "      *  *\n",
      "       * *\n",
      "        **\n",
      "         *\n",
      "\n"
     ]
    }
   ],
   "source": [
    "size = 10\n",
    "\n",
    "top = print_half(range(1, size+1), 'center')\n",
    "bottom = print_half(range(size, 0, -1), 'center')\n",
    "for line in (top + bottom[1:]):\n",
    "    print(line)\n",
    "print()\n",
    "\n",
    "top = print_half(range(1, size+1), 'left')\n",
    "bottom = print_half(range(size, 0, -1), 'right')\n",
    "for line in (top + bottom[1:]):\n",
    "    print(line)\n",
    "print()\n",
    "\n",
    "top = print_half(range(1, size+1), 'right')\n",
    "bottom = print_half(range(size, 0, -1), 'left')\n",
    "for line in (top + bottom[1:]):\n",
    "    print(line)\n",
    "print()"
   ]
  },
  {
   "cell_type": "code",
   "execution_count": null,
   "metadata": {
    "collapsed": true
   },
   "outputs": [],
   "source": []
  }
 ],
 "metadata": {
  "kernelspec": {
   "display_name": "Python 3",
   "language": "python",
   "name": "python3"
  },
  "language_info": {
   "codemirror_mode": {
    "name": "ipython",
    "version": 3
   },
   "file_extension": ".py",
   "mimetype": "text/x-python",
   "name": "python",
   "nbconvert_exporter": "python",
   "pygments_lexer": "ipython3",
   "version": "3.6.1"
  }
 },
 "nbformat": 4,
 "nbformat_minor": 2
}

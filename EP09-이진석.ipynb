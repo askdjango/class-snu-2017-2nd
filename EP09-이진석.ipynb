{
 "cells": [
  {
   "cell_type": "code",
   "execution_count": 26,
   "metadata": {
    "collapsed": true
   },
   "outputs": [],
   "source": [
    "def base_10(fn):\n",
    "    def wrap(x, y):\n",
    "        return fn(x, y) + 10\n",
    "    return wrap"
   ]
  },
  {
   "cell_type": "code",
   "execution_count": 27,
   "metadata": {
    "collapsed": true
   },
   "outputs": [],
   "source": [
    "def mysum(a, b):\n",
    "    return a + b\n",
    "\n",
    "mysum = base_10(mysum)"
   ]
  },
  {
   "cell_type": "code",
   "execution_count": 28,
   "metadata": {},
   "outputs": [
    {
     "data": {
      "text/plain": [
       "31"
      ]
     },
     "execution_count": 28,
     "metadata": {},
     "output_type": "execute_result"
    }
   ],
   "source": [
    "mysum(1, 20)"
   ]
  },
  {
   "cell_type": "markdown",
   "metadata": {},
   "source": [
    "### 장식자 적용"
   ]
  },
  {
   "cell_type": "code",
   "execution_count": 32,
   "metadata": {
    "collapsed": true
   },
   "outputs": [],
   "source": [
    "def base_10(fn):\n",
    "    def wrap(x, y):\n",
    "        return fn(x, y) + 10\n",
    "    return wrap\n",
    "\n",
    "@base_10\n",
    "@base_10\n",
    "@base_10\n",
    "def mysum(a, b):\n",
    "    return a + b\n",
    "\n",
    "#mysum = base_10(mysum)"
   ]
  },
  {
   "cell_type": "code",
   "execution_count": 33,
   "metadata": {},
   "outputs": [
    {
     "data": {
      "text/plain": [
       "33"
      ]
     },
     "execution_count": 33,
     "metadata": {},
     "output_type": "execute_result"
    }
   ],
   "source": [
    "mysum(1, 2)"
   ]
  },
  {
   "cell_type": "markdown",
   "metadata": {
    "collapsed": true
   },
   "source": [
    "### 인자있는 장식자"
   ]
  },
  {
   "cell_type": "code",
   "execution_count": 34,
   "metadata": {
    "collapsed": true
   },
   "outputs": [],
   "source": [
    "def base_10(fn):\n",
    "    def wrap(x, y):\n",
    "        return fn(x, y) + 10\n",
    "    return wrap\n",
    "\n",
    "def base_20(fn):\n",
    "    def wrap(x, y):\n",
    "        return fn(x, y) + 20\n",
    "    return wrap\n",
    "\n",
    "def base_30(fn):\n",
    "    def wrap(x, y):\n",
    "        return fn(x, y) + 30\n",
    "    return wrap\n"
   ]
  },
  {
   "cell_type": "code",
   "execution_count": 35,
   "metadata": {},
   "outputs": [
    {
     "data": {
      "text/plain": [
       "13"
      ]
     },
     "execution_count": 35,
     "metadata": {},
     "output_type": "execute_result"
    }
   ],
   "source": [
    "@base_10\n",
    "def mysum(x, y):\n",
    "    return x + y\n",
    "\n",
    "mysum(1, 2)"
   ]
  },
  {
   "cell_type": "code",
   "execution_count": 36,
   "metadata": {},
   "outputs": [
    {
     "data": {
      "text/plain": [
       "40"
      ]
     },
     "execution_count": 36,
     "metadata": {},
     "output_type": "execute_result"
    }
   ],
   "source": [
    "@base_20\n",
    "def mymultiply(x, y):\n",
    "    return x * y\n",
    "\n",
    "mymultiply(2, 10)"
   ]
  },
  {
   "cell_type": "code",
   "execution_count": 42,
   "metadata": {},
   "outputs": [
    {
     "data": {
      "text/plain": [
       "1003"
      ]
     },
     "execution_count": 42,
     "metadata": {},
     "output_type": "execute_result"
    }
   ],
   "source": [
    "def base(base_number):\n",
    "    def wrap(fn):\n",
    "        def inner(x, y):\n",
    "            return fn(x, y) + base_number\n",
    "        return inner\n",
    "    return wrap\n",
    "\n",
    "base_10 = base(10)\n",
    "base_20 = base(20)\n",
    "base_30 = base(30)\n",
    "\n",
    "@base(1000)\n",
    "def mysum(x, y):\n",
    "    return x + y\n",
    "\n",
    "mysum(1, 2)"
   ]
  },
  {
   "cell_type": "markdown",
   "metadata": {},
   "source": [
    "## memoize"
   ]
  },
  {
   "cell_type": "code",
   "execution_count": 44,
   "metadata": {},
   "outputs": [
    {
     "name": "stdout",
     "output_type": "stream",
     "text": [
      "hello\n",
      "world\n"
     ]
    }
   ],
   "source": [
    "import time\n",
    "\n",
    "print(\"hello\")\n",
    "time.sleep(3)\n",
    "print(\"world\")"
   ]
  },
  {
   "cell_type": "code",
   "execution_count": 47,
   "metadata": {
    "collapsed": true
   },
   "outputs": [],
   "source": [
    "def mysum(x, y):\n",
    "    time.sleep(1)\n",
    "    return x + y"
   ]
  },
  {
   "cell_type": "code",
   "execution_count": 49,
   "metadata": {},
   "outputs": [
    {
     "name": "stdout",
     "output_type": "stream",
     "text": [
      "3\n",
      "3\n",
      "3\n",
      "3\n",
      "4\n"
     ]
    }
   ],
   "source": [
    "print(mysum(1, 2))\n",
    "print(mysum(1, 2))\n",
    "print(mysum(1, 2))\n",
    "print(mysum(1, 2))\n",
    "print(mysum(1, 3))"
   ]
  },
  {
   "cell_type": "code",
   "execution_count": 69,
   "metadata": {
    "collapsed": true
   },
   "outputs": [],
   "source": [
    "cache = {}\n",
    "\n",
    "def mysum(x, y):\n",
    "    key = (x, y)\n",
    "    if key not in cache:  # 계산 결과가 저장되어있지 않느냐?\n",
    "        time.sleep(1)\n",
    "        cache[key] = x + y\n",
    "    return cache[key]\n",
    "\n",
    "cache2 = {}\n",
    "def mymultiply(x, y):\n",
    "    key = (x, y)\n",
    "    if key not in cache2:  # 계산 결과가 저장되어있지 않느냐?\n",
    "        time.sleep(1)\n",
    "        cache2[key] = x * y\n",
    "    return cache2[key]"
   ]
  },
  {
   "cell_type": "code",
   "execution_count": 71,
   "metadata": {},
   "outputs": [
    {
     "name": "stdout",
     "output_type": "stream",
     "text": [
      "3\n",
      "3\n",
      "3\n",
      "3\n",
      "4\n",
      "2\n",
      "2\n",
      "2\n",
      "2\n",
      "3\n"
     ]
    }
   ],
   "source": [
    "print(mysum(1, 2))\n",
    "print(mysum(1, 2))\n",
    "print(mysum(1, 2))\n",
    "print(mysum(1, 2))\n",
    "print(mysum(1, 3))\n",
    "\n",
    "print(mymultiply(1, 2))\n",
    "print(mymultiply(1, 2))\n",
    "print(mymultiply(1, 2))\n",
    "print(mymultiply(1, 2))\n",
    "print(mymultiply(1, 3))"
   ]
  },
  {
   "cell_type": "markdown",
   "metadata": {},
   "source": [
    "### 장식자 적용"
   ]
  },
  {
   "cell_type": "code",
   "execution_count": 81,
   "metadata": {},
   "outputs": [
    {
     "data": {
      "text/plain": [
       "10"
      ]
     },
     "execution_count": 81,
     "metadata": {},
     "output_type": "execute_result"
    }
   ],
   "source": [
    "abs(-10)"
   ]
  },
  {
   "cell_type": "code",
   "execution_count": 84,
   "metadata": {
    "collapsed": true
   },
   "outputs": [],
   "source": [
    "def memoize(fn):\n",
    "    cached = {}\n",
    "    def wrap(*args):\n",
    "        key = args\n",
    "        if key not in cached:\n",
    "            args = [abs(i) for i in args]  # 모든 인자를 절대값으로 변경한 리스트\n",
    "            cached[key] = fn(*args)\n",
    "        return cached[key]\n",
    "    return wrap\n",
    "\n",
    "@memoize\n",
    "def mysum2(x, y):\n",
    "    time.sleep(1)\n",
    "    return x + y\n",
    "\n",
    "@memoize\n",
    "def mysum3(x, y, z):\n",
    "    time.sleep(1)\n",
    "    return x + y + z\n",
    "\n",
    "@memoize\n",
    "def mysum10(a, b, c, d, e, f, g, h, i, j):\n",
    "    time.sleep(1)\n",
    "    return sum((a, b, c, d, e, f, g, h, i, j))\n"
   ]
  },
  {
   "cell_type": "code",
   "execution_count": 85,
   "metadata": {},
   "outputs": [
    {
     "name": "stdout",
     "output_type": "stream",
     "text": [
      "3\n",
      "3\n",
      "3\n",
      "3\n",
      "4\n"
     ]
    }
   ],
   "source": [
    "print(mysum2(1, -2))\n",
    "print(mysum2(1, 2))\n",
    "print(mysum2(1, 2))\n",
    "print(mysum2(1, 2))\n",
    "print(mysum2(1, 3))"
   ]
  },
  {
   "cell_type": "code",
   "execution_count": 79,
   "metadata": {},
   "outputs": [
    {
     "ename": "TypeError",
     "evalue": "'int' object is not iterable",
     "output_type": "error",
     "traceback": [
      "\u001b[1;31m---------------------------------------------------------------------------\u001b[0m",
      "\u001b[1;31mTypeError\u001b[0m                                 Traceback (most recent call last)",
      "\u001b[1;32m<ipython-input-79-300700bc3129>\u001b[0m in \u001b[0;36m<module>\u001b[1;34m()\u001b[0m\n\u001b[1;32m----> 1\u001b[1;33m \u001b[0msum\u001b[0m\u001b[1;33m(\u001b[0m\u001b[1;36m1\u001b[0m\u001b[1;33m,\u001b[0m \u001b[1;36m2\u001b[0m\u001b[1;33m)\u001b[0m\u001b[1;33m\u001b[0m\u001b[0m\n\u001b[0m",
      "\u001b[1;31mTypeError\u001b[0m: 'int' object is not iterable"
     ]
    }
   ],
   "source": [
    "sum(1, 2)"
   ]
  },
  {
   "cell_type": "markdown",
   "metadata": {
    "collapsed": true
   },
   "source": [
    "## 과제 풀이"
   ]
  },
  {
   "cell_type": "code",
   "execution_count": 15,
   "metadata": {
    "collapsed": true
   },
   "outputs": [],
   "source": [
    "def myfilter(filter_fn, alter_value):\n",
    "    def wrap(fn):\n",
    "        def inner(*args):\n",
    "            new_args = [\n",
    "                i if filter_fn(i) else alter_value\n",
    "                for i in args]\n",
    "            return fn(*new_args)\n",
    "        return inner\n",
    "    return wrap\n",
    "\n",
    "@myfilter(lambda i: i%2==0, 0)\n",
    "def mysum(a, b, c, d, e):\n",
    "    return a + b + c + d + e"
   ]
  },
  {
   "cell_type": "code",
   "execution_count": 16,
   "metadata": {},
   "outputs": [
    {
     "data": {
      "text/plain": [
       "6"
      ]
     },
     "execution_count": 16,
     "metadata": {},
     "output_type": "execute_result"
    }
   ],
   "source": [
    "mysum(1, 2, 3, 4, 5)"
   ]
  },
  {
   "cell_type": "code",
   "execution_count": 12,
   "metadata": {},
   "outputs": [
    {
     "data": {
      "text/plain": [
       "[0, 2, 0, 4, 0]"
      ]
     },
     "execution_count": 12,
     "metadata": {},
     "output_type": "execute_result"
    }
   ],
   "source": [
    "# 변환 방법 1)\n",
    "args = (1, 2, 3, 4, 5)\n",
    "filter_fn = lambda i: i%2 == 0\n",
    "\n",
    "new_args = []\n",
    "for i in args:\n",
    "    if filter_fn(i):\n",
    "        new_args.append(i)\n",
    "    else:\n",
    "        new_args.append(0)\n",
    "new_args"
   ]
  },
  {
   "cell_type": "code",
   "execution_count": 14,
   "metadata": {},
   "outputs": [
    {
     "data": {
      "text/plain": [
       "[0, 2, 0, 4, 0]"
      ]
     },
     "execution_count": 14,
     "metadata": {},
     "output_type": "execute_result"
    }
   ],
   "source": [
    "# 변환 방법 2)\n",
    "args = (1, 2, 3, 4, 5)\n",
    "filter_fn = lambda i: i%2 == 0\n",
    "\n",
    "new_args = [\n",
    "    i if filter_fn(i) else 0\n",
    "    for i in args]\n",
    "new_args"
   ]
  },
  {
   "cell_type": "code",
   "execution_count": 10,
   "metadata": {},
   "outputs": [
    {
     "data": {
      "text/plain": [
       "'even'"
      ]
     },
     "execution_count": 10,
     "metadata": {},
     "output_type": "execute_result"
    }
   ],
   "source": [
    "value = 10\n",
    "\n",
    "result = 'even' if value % 2 == 0 else 'odd'\n",
    "result"
   ]
  },
  {
   "cell_type": "code",
   "execution_count": 11,
   "metadata": {},
   "outputs": [
    {
     "data": {
      "text/plain": [
       "[0, 1, 2, 3, 4, 5, 6, 7, 8, 9]"
      ]
     },
     "execution_count": 11,
     "metadata": {},
     "output_type": "execute_result"
    }
   ],
   "source": [
    "[i for i in range(10)]"
   ]
  },
  {
   "cell_type": "markdown",
   "metadata": {},
   "source": [
    "## Packing / Unpacking"
   ]
  },
  {
   "cell_type": "code",
   "execution_count": 17,
   "metadata": {
    "collapsed": true
   },
   "outputs": [],
   "source": [
    "def mysum2(a, b):\n",
    "    return a + b\n",
    "\n",
    "def mysum3(a, b, c):\n",
    "    return a + b + c\n",
    "\n",
    "def mysum4(a, b, c, d):\n",
    "    return a + b + c + d"
   ]
  },
  {
   "cell_type": "code",
   "execution_count": 23,
   "metadata": {
    "collapsed": true
   },
   "outputs": [],
   "source": [
    "def mysum(a, b, *args):\n",
    "    print(a)\n",
    "    print(b)\n",
    "    print(args)"
   ]
  },
  {
   "cell_type": "code",
   "execution_count": 24,
   "metadata": {},
   "outputs": [
    {
     "name": "stdout",
     "output_type": "stream",
     "text": [
      "1\n",
      "2\n",
      "(3, 4, 5, 6, 7, 8, 9, 10)\n"
     ]
    }
   ],
   "source": [
    "mysum(1, 2, 3, 4, 5, 6, 7, 8, 9, 10)"
   ]
  },
  {
   "cell_type": "code",
   "execution_count": 25,
   "metadata": {
    "collapsed": true
   },
   "outputs": [],
   "source": [
    "def mysum4(a, b, c, d):\n",
    "    return a + b + c + d"
   ]
  },
  {
   "cell_type": "code",
   "execution_count": 29,
   "metadata": {},
   "outputs": [
    {
     "data": {
      "text/plain": [
       "10"
      ]
     },
     "execution_count": 29,
     "metadata": {},
     "output_type": "execute_result"
    }
   ],
   "source": [
    "value = [1, 2, 3, 4]\n",
    "# mysum4(value[0], value[1], value[2], value[3])\n",
    "mysum4(*value)"
   ]
  },
  {
   "cell_type": "markdown",
   "metadata": {},
   "source": [
    "## 장식자"
   ]
  },
  {
   "cell_type": "code",
   "execution_count": 34,
   "metadata": {},
   "outputs": [
    {
     "data": {
      "text/plain": [
       "33"
      ]
     },
     "execution_count": 34,
     "metadata": {},
     "output_type": "execute_result"
    }
   ],
   "source": [
    "def mysum(x, y):\n",
    "    return x + y\n",
    "\n",
    "def base_10(fn):\n",
    "    def wrap(x, y):\n",
    "        return fn(x, y) + 10\n",
    "    return wrap\n",
    "\n",
    "result_fn = base_10(mysum)\n",
    "result_fn(1, 2)"
   ]
  },
  {
   "cell_type": "code",
   "execution_count": 36,
   "metadata": {},
   "outputs": [
    {
     "data": {
      "text/plain": [
       "13"
      ]
     },
     "execution_count": 36,
     "metadata": {},
     "output_type": "execute_result"
    }
   ],
   "source": [
    "# 장식자 적용\n",
    "def base_10(fn):\n",
    "    def wrap(x, y):\n",
    "        return fn(x, y) + 10\n",
    "    return wrap\n",
    "\n",
    "@base_10\n",
    "def mysum(x, y):\n",
    "    return x + y\n",
    "\n",
    "# mysum = base_10(mysum)\n",
    "\n",
    "mysum(1, 2)"
   ]
  },
  {
   "cell_type": "code",
   "execution_count": 38,
   "metadata": {},
   "outputs": [
    {
     "data": {
      "text/plain": [
       "23"
      ]
     },
     "execution_count": 38,
     "metadata": {},
     "output_type": "execute_result"
    }
   ],
   "source": [
    "# 장식자 적용\n",
    "def base(base_number):\n",
    "    def wrap(fn):\n",
    "        def inner(x, y):\n",
    "            return fn(x, y) + base_number\n",
    "        return inner\n",
    "    return wrap\n",
    "\n",
    "base_10 = base(10)\n",
    "base_20 = base(20)\n",
    "\n",
    "@base_20\n",
    "def mysum(x, y):\n",
    "    return x + y\n",
    "\n",
    "# mysum = base_10(mysum)\n",
    "\n",
    "mysum(1, 2)"
   ]
  },
  {
   "cell_type": "code",
   "execution_count": null,
   "metadata": {
    "collapsed": true
   },
   "outputs": [],
   "source": []
  }
 ],
 "metadata": {
  "kernelspec": {
   "display_name": "Python 3",
   "language": "python",
   "name": "python3"
  },
  "language_info": {
   "codemirror_mode": {
    "name": "ipython",
    "version": 3
   },
   "file_extension": ".py",
   "mimetype": "text/x-python",
   "name": "python",
   "nbconvert_exporter": "python",
   "pygments_lexer": "ipython3",
   "version": "3.6.1"
  }
 },
 "nbformat": 4,
 "nbformat_minor": 2
}

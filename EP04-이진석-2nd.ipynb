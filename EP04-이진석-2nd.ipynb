{
 "cells": [
  {
   "cell_type": "code",
   "execution_count": 5,
   "metadata": {
    "collapsed": true
   },
   "outputs": [],
   "source": [
    "# 마음의 소리 : 반바지\n",
    "page_url = 'http://comic.naver.com/webtoon/detail.nhn?titleId=20853&no=1114&weekday=tue'"
   ]
  },
  {
   "cell_type": "code",
   "execution_count": 13,
   "metadata": {
    "collapsed": true
   },
   "outputs": [],
   "source": [
    "import os\n",
    "import requests\n",
    "\n",
    "html = requests.get(page_url).text"
   ]
  },
  {
   "cell_type": "code",
   "execution_count": 8,
   "metadata": {},
   "outputs": [],
   "source": [
    "# BeautifulSoup\n",
    "from bs4 import BeautifulSoup"
   ]
  },
  {
   "cell_type": "code",
   "execution_count": 9,
   "metadata": {
    "collapsed": true
   },
   "outputs": [],
   "source": [
    "soup = BeautifulSoup(html, 'html.parser')"
   ]
  },
  {
   "cell_type": "code",
   "execution_count": 12,
   "metadata": {},
   "outputs": [],
   "source": [
    "image_urls = []\n",
    "for tag in soup.select('.wt_viewer img'):\n",
    "    image_url = tag['src']\n",
    "    image_urls.append(image_url)"
   ]
  },
  {
   "cell_type": "code",
   "execution_count": 14,
   "metadata": {},
   "outputs": [
    {
     "name": "stdout",
     "output_type": "stream",
     "text": [
      "20171023151427_ae311a2d7b538a781bf31bdd7f15b4f4_IMAG01_1.jpg 198493 bytes\n",
      "20171023151427_ae311a2d7b538a781bf31bdd7f15b4f4_IMAG01_2.jpg 221130 bytes\n",
      "20171023151427_ae311a2d7b538a781bf31bdd7f15b4f4_IMAG01_3.jpg 196314 bytes\n",
      "20171023151427_ae311a2d7b538a781bf31bdd7f15b4f4_IMAG01_4.jpg 203318 bytes\n",
      "20171023151427_ae311a2d7b538a781bf31bdd7f15b4f4_IMAG01_5.jpg 183092 bytes\n",
      "20171023151427_ae311a2d7b538a781bf31bdd7f15b4f4_IMAG01_6.jpg 208013 bytes\n",
      "20171023151427_ae311a2d7b538a781bf31bdd7f15b4f4_IMAG01_7.jpg 133636 bytes\n",
      "20171023151427_ae311a2d7b538a781bf31bdd7f15b4f4_IMAG01_8.jpg 198390 bytes\n",
      "20171023151427_ae311a2d7b538a781bf31bdd7f15b4f4_IMAG01_9.jpg 214221 bytes\n",
      "20171023151427_ae311a2d7b538a781bf31bdd7f15b4f4_IMAG01_10.jpg 135170 bytes\n",
      "20171023151427_ae311a2d7b538a781bf31bdd7f15b4f4_IMAG01_11.jpg 249595 bytes\n",
      "20171023151427_ae311a2d7b538a781bf31bdd7f15b4f4_IMAG01_12.jpg 154238 bytes\n",
      "20171023151427_ae311a2d7b538a781bf31bdd7f15b4f4_IMAG01_13.jpg 208920 bytes\n",
      "20171023151427_ae311a2d7b538a781bf31bdd7f15b4f4_IMAG01_14.jpg 172043 bytes\n",
      "20171023151427_ae311a2d7b538a781bf31bdd7f15b4f4_IMAG01_15.jpg 204672 bytes\n",
      "20171023151427_ae311a2d7b538a781bf31bdd7f15b4f4_IMAG01_16.jpg 192840 bytes\n",
      "20171023151427_ae311a2d7b538a781bf31bdd7f15b4f4_IMAG01_17.jpg 200857 bytes\n",
      "20171023151427_ae311a2d7b538a781bf31bdd7f15b4f4_IMAG01_18.jpg 156858 bytes\n",
      "20171023151427_ae311a2d7b538a781bf31bdd7f15b4f4_IMAG01_19.jpg 184045 bytes\n",
      "20171023151427_ae311a2d7b538a781bf31bdd7f15b4f4_IMAG01_20.jpg 175591 bytes\n",
      "20171023151427_ae311a2d7b538a781bf31bdd7f15b4f4_IMAG01_21.jpg 213835 bytes\n",
      "20171023151427_ae311a2d7b538a781bf31bdd7f15b4f4_IMAG01_22.jpg 189219 bytes\n",
      "20171023151427_ae311a2d7b538a781bf31bdd7f15b4f4_IMAG01_23.jpg 126536 bytes\n",
      "20171023151427_ae311a2d7b538a781bf31bdd7f15b4f4_IMAG01_24.jpg 242861 bytes\n",
      "20171023151427_ae311a2d7b538a781bf31bdd7f15b4f4_IMAG01_25.jpg 174324 bytes\n",
      "20171023151427_ae311a2d7b538a781bf31bdd7f15b4f4_IMAG01_26.jpg 198987 bytes\n",
      "20171023151427_ae311a2d7b538a781bf31bdd7f15b4f4_IMAG01_27.jpg 236808 bytes\n",
      "20171023151427_ae311a2d7b538a781bf31bdd7f15b4f4_IMAG01_28.jpg 270308 bytes\n",
      "20171023151427_ae311a2d7b538a781bf31bdd7f15b4f4_IMAG01_29.jpg 42540 bytes\n"
     ]
    }
   ],
   "source": [
    "\n",
    "for image_url in image_urls:\n",
    "    response = requests.get(image_url, headers={'Referer': page_url})\n",
    "    image_data = response.content\n",
    "    filename = os.path.basename(image_url)\n",
    "    with open(filename, 'wb') as f:\n",
    "        f.write(image_data)\n",
    "        print(filename, len(image_data), 'bytes')"
   ]
  },
  {
   "cell_type": "code",
   "execution_count": null,
   "metadata": {
    "collapsed": true
   },
   "outputs": [],
   "source": []
  }
 ],
 "metadata": {
  "kernelspec": {
   "display_name": "Python 3",
   "language": "python",
   "name": "python3"
  },
  "language_info": {
   "codemirror_mode": {
    "name": "ipython",
    "version": 3
   },
   "file_extension": ".py",
   "mimetype": "text/x-python",
   "name": "python",
   "nbconvert_exporter": "python",
   "pygments_lexer": "ipython3",
   "version": "3.6.1"
  }
 },
 "nbformat": 4,
 "nbformat_minor": 2
}

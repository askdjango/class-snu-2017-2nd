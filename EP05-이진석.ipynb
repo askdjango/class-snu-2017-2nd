{
 "cells": [
  {
   "cell_type": "code",
   "execution_count": 7,
   "metadata": {},
   "outputs": [
    {
     "data": {
      "text/plain": [
       "'oid=001&sid1=100&aid=0009651976&mid=shm'"
      ]
     },
     "execution_count": 7,
     "metadata": {},
     "output_type": "execute_result"
    }
   ],
   "source": [
    "# url = 'http://news.naver.com/main/read.nhn'\n",
    "#'oid=001&sid1=100&aid=' + article_id + '&mid=shm'\n",
    "\n",
    "# '&'.join('{}={}'.format(k, v) for k, v in params.items())\n",
    "\n",
    "\n"
   ]
  },
  {
   "cell_type": "code",
   "execution_count": 8,
   "metadata": {
    "collapsed": true
   },
   "outputs": [],
   "source": [
    "import requests\n",
    "\n",
    "url = 'http://news.naver.com/main/read.nhn'\n",
    "\n",
    "article_id = '0009651976'\n",
    "\n",
    "params = {\n",
    "    'oid': '001',\n",
    "    'sid1': '100',\n",
    "    'aid': article_id,\n",
    "    'mid': 'shm',\n",
    "}\n",
    "\n",
    "resp = requests.get(url, params=params)"
   ]
  },
  {
   "cell_type": "code",
   "execution_count": null,
   "metadata": {
    "collapsed": true
   },
   "outputs": [],
   "source": []
  }
 ],
 "metadata": {
  "kernelspec": {
   "display_name": "Python 3",
   "language": "python",
   "name": "python3"
  },
  "language_info": {
   "codemirror_mode": {
    "name": "ipython",
    "version": 3
   },
   "file_extension": ".py",
   "mimetype": "text/x-python",
   "name": "python",
   "nbconvert_exporter": "python",
   "pygments_lexer": "ipython3",
   "version": "3.6.1"
  }
 },
 "nbformat": 4,
 "nbformat_minor": 2
}
